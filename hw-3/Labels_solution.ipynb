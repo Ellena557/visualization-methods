{
  "nbformat": 4,
  "nbformat_minor": 0,
  "metadata": {
    "colab": {
      "name": "Labels",
      "provenance": [],
      "collapsed_sections": []
    },
    "kernelspec": {
      "name": "python3",
      "display_name": "Python 3"
    },
    "language_info": {
      "name": "python"
    }
  },
  "cells": [
    {
      "cell_type": "markdown",
      "metadata": {
        "id": "LYCMCgb-I0-s"
      },
      "source": [
        "## Домашнее задание №3\n",
        "\n",
        "#### Горская Елена"
      ]
    },
    {
      "cell_type": "markdown",
      "metadata": {
        "id": "2AzgyEjaLi5H"
      },
      "source": [
        "Задача решалась в постановке, когда для каждой точки задан выбор из двух вариантов расположения подписи. \n",
        "\n",
        "Какой формат входных данных (частично совпадает с тем, что обсуждалось в чате):\n",
        "\n",
        "(координаты точки) < space > (размер рамки) < space > (первый вариант расположения левого нижнего угла рамки) < space > (второй вариант расположения левого нижнего угла рамки).\n",
        "\n",
        "Например:\n",
        "\n",
        "$x,y$ $\\quad$ $w,h$ $\\quad$ $x_1,y_1$ $\\quad$ $x_2,y_2$\n",
        "\n",
        "Здесь:\n",
        "* $(x,y)$ - координаты точки\n",
        "* $w$ - ширина рамки\n",
        "* $h$ - высота рамки\n",
        "* $(x_1,y_1)$ - первый вариант расположения левого нижнего угла рамки\n",
        "* $(x_2,y_2)$ - второй вариант расположения левого нижнего угла рамки"
      ]
    },
    {
      "cell_type": "code",
      "metadata": {
        "id": "DrogcYJnLoxm"
      },
      "source": [
        "# библиотеки\n",
        "import numpy as np\n",
        "import matplotlib.pyplot as plt\n",
        "import math\n",
        "import seaborn as sns\n",
        "\n",
        "from matplotlib.patches import Rectangle"
      ],
      "execution_count": null,
      "outputs": []
    },
    {
      "cell_type": "markdown",
      "metadata": {
        "id": "mxWwoZM4I6xz"
      },
      "source": [
        "В ячейку ниже можно ввести данные в указанном формате."
      ]
    },
    {
      "cell_type": "code",
      "metadata": {
        "id": "AQPAJQnbM0At"
      },
      "source": [
        "raw_data = '''\n",
        "10,10 10,10 0,0 10,10\n",
        "15,15 10,15 5,0 15,15\n",
        "20,40 16,8 12,32 12,40\n",
        "21,10 15,10 6,10 21,0\n",
        "40,40 5,5 40,40 35,35\n",
        "8,40 6,6 5,37 8,40\n",
        "15,35 4,4 13,33 15,35\n",
        "43,43 10,10 33,38 43,38\n",
        "40,14 12,6 34,8 34,14\n",
        "'''"
      ],
      "execution_count": null,
      "outputs": []
    },
    {
      "cell_type": "markdown",
      "metadata": {
        "id": "98oQnhNkKMiM"
      },
      "source": [
        "Обработка данных:"
      ]
    },
    {
      "cell_type": "code",
      "metadata": {
        "id": "VTks7uJRKOZo"
      },
      "source": [
        "point_positions = []\n",
        "box_sizes = []\n",
        "box_positions_1 = []\n",
        "box_positions_2 = []\n",
        "\n",
        "cur_lines = raw_data.strip().split('\\n')\n",
        "\n",
        "for line in cur_lines:\n",
        "  arr = line.split(' ')\n",
        "  point_positions.append(np.array(arr[0].split(','), dtype=int))\n",
        "  box_sizes.append(np.array(arr[1].split(','), dtype=int))\n",
        "  box_positions_1.append(np.array(arr[2].split(','), dtype=int))\n",
        "  box_positions_2.append(np.array(arr[3].split(','), dtype=int))"
      ],
      "execution_count": null,
      "outputs": []
    },
    {
      "cell_type": "markdown",
      "metadata": {
        "id": "hiYZTdUMfRgo"
      },
      "source": [
        "Сам алгоритм, разбитый на функции:"
      ]
    },
    {
      "cell_type": "code",
      "metadata": {
        "id": "vCObbCeMLEx3"
      },
      "source": [
        "# пересекаются ли два прямоугольника\n",
        "def do_boxes_intersect(pos_1, size_1, pos_2, size_2):\n",
        "  # top-right-x-1 < bottom-left-x-2\n",
        "  if (pos_1[0] + size_1[0] < pos_2[0]):\n",
        "    return False\n",
        "\n",
        "  # bottom-left-x-1 > top-right-x-2\n",
        "  if (pos_1[0] > pos_2[0] + size_2[0]):\n",
        "    return False\n",
        "  \n",
        "  # top-right-y-1 < bottom-left-y-2\n",
        "  if (pos_1[1] + size_1[1] < pos_2[1]):\n",
        "    return False\n",
        "\n",
        "  # bottom-left-y-1 > top-right-y-2\n",
        "  if (pos_1[1] > pos_2[1] + size_2[1]):\n",
        "    return False\n",
        "\n",
        "  return True\n",
        "\n",
        "\n",
        "# ищем пары:\n",
        "# для первого положения прямоугольника номер тот же\n",
        "# для второго - к номеру прибавляется n (общее число точек)\n",
        "def find_pairs(point_positions, box_sizes, box_positions_1, box_positions_2):\n",
        "  res = []\n",
        "  n = len(point_positions)\n",
        "  for i in range(len(point_positions) - 1):\n",
        "    for j in range(i + 1, len(point_positions)):\n",
        "      point_1 = point_positions[i]\n",
        "      point_2 = point_positions[j]\n",
        "      if do_boxes_intersect(box_positions_1[i], \n",
        "                            box_sizes[i], \n",
        "                            box_positions_1[j], \n",
        "                            box_sizes[j]):\n",
        "        res.append([i, j])\n",
        "\n",
        "      if do_boxes_intersect(box_positions_1[i], \n",
        "                            box_sizes[i], \n",
        "                            box_positions_2[j], \n",
        "                            box_sizes[j]):\n",
        "        res.append([i, j + n])\n",
        "      \n",
        "      if do_boxes_intersect(box_positions_2[i], \n",
        "                            box_sizes[i], \n",
        "                            box_positions_1[j], \n",
        "                            box_sizes[j]):\n",
        "        res.append([j, i + n])\n",
        "\n",
        "      if do_boxes_intersect(box_positions_2[i], \n",
        "                            box_sizes[i], \n",
        "                            box_positions_2[j], \n",
        "                            box_sizes[j]):\n",
        "        res.append([i + n, j + n])\n",
        "\n",
        "  for i in range(len(point_positions)):\n",
        "    # если вылезли за 500\n",
        "    if (box_positions_1[i][0] + box_sizes[i][0] > 500) or (box_positions_1[i][1] + box_sizes[i][1] > 500): \n",
        "      res.append([i, i + 1])\n",
        "      res.append([i, find_co_pair(i + 1, n)])\n",
        "    if (box_positions_2[i][0] + box_sizes[i][0] > 500) or (box_positions_2[i][1] + box_sizes[i][1] > 500): \n",
        "      res.append([i + n, i + 1])\n",
        "      res.append([i + n, find_co_pair(i + 1, n)])\n",
        "\n",
        "  return res\n",
        "\n",
        "\n",
        "# номер противоположной вершины (в SAT-понимании)\n",
        "def find_co_pair(x, n):\n",
        "  if (x < n):\n",
        "    return n + x\n",
        "  else:\n",
        "    return x - n\n",
        "\n",
        "\n",
        "# создание графа из списка пар\n",
        "def make_graph(pairs, n):\n",
        "  nodes = list(np.arange(2 * n))\n",
        "  edges = []\n",
        "  for i in range(len(nodes)):\n",
        "    edges.append([])\n",
        "  for pair in pairs:\n",
        "    edges[pair[0]].append(find_co_pair(pair[1], n))\n",
        "    edges[pair[1]].append(find_co_pair(pair[0], n))\n",
        "  return nodes, edges\n",
        "\n",
        "\n",
        "# здесь использовался алгоритм Тарьяна для поиска сильных компонент\n",
        "def find_components(nodes, edges):\n",
        "  index = 0\n",
        "  n = len(nodes)\n",
        "  stack = []\n",
        "  lowlinks = np.full_like(nodes, 2 * n + 1)\n",
        "  indices = np.full_like(nodes, 2 * n + 1)\n",
        "  comps = []\n",
        "\n",
        "  def connect_strong(v):\n",
        "    nonlocal index\n",
        "    lowlinks[v] = index\n",
        "    indices[v] = index\n",
        "    index += 1\n",
        "    stack.append(v)\n",
        "\n",
        "    for u in edges[v]:\n",
        "      if lowlinks[u] == 2 * n + 1:\n",
        "        connect_strong(u)\n",
        "        lowlinks[v] = min(lowlinks[v], lowlinks[u])\n",
        "      else:\n",
        "        if u in stack:\n",
        "          lowlinks[v] = min(lowlinks[v], indices[u])\n",
        "        else:\n",
        "          continue\n",
        "\n",
        "    if lowlinks[v] == indices[v]:\n",
        "      # start a new component\n",
        "      comp = []\n",
        "      while True:\n",
        "        u = stack.pop()\n",
        "        comp.append(u)\n",
        "        if u == v:\n",
        "          break\n",
        "      comps.append(comp)\n",
        "\n",
        "  for v in nodes:\n",
        "    if lowlinks[v] == 2 * n + 1:\n",
        "      connect_strong(v)\n",
        "  return comps\n",
        "\n",
        "\n",
        "# поиск решения 2-SAT\n",
        "def solve_2_sat(nodes, edges):\n",
        "  components = find_components(nodes, edges)\n",
        "  results = np.full_like(nodes, -1)\n",
        "  n = len(nodes)\n",
        "  for comp in components:\n",
        "    for node in comp:\n",
        "      if find_co_pair(node, int(n / 2)) in comp:\n",
        "        return False, -1\n",
        "      if results[node] == -1:\n",
        "        results[node] = 1\n",
        "        results[find_co_pair(node, int(n / 2))] = 0\n",
        "  return True, results\n",
        "\n",
        "\n",
        "# основной алгоритм: поиск местоположений подписей\n",
        "def find_labels(point_positions, box_sizes, box_positions_1, box_positions_2):\n",
        "  contradict_pairs = find_pairs(point_positions, box_sizes, \n",
        "                                box_positions_1, box_positions_2)\n",
        "  n = len(point_positions)\n",
        "  nodes, edges = make_graph(contradict_pairs, n)\n",
        "  success, res = solve_2_sat(nodes, edges)\n",
        "  if not success:\n",
        "    print('Solution does not exist for this task')\n",
        "    return -1\n",
        "  else:\n",
        "    output = []\n",
        "    for i in range(int(len(res) / 2)):\n",
        "      if res[i] == 0:\n",
        "        output.append(box_positions_2[i])\n",
        "      else:\n",
        "        output.append(box_positions_1[i])\n",
        "    return output"
      ],
      "execution_count": null,
      "outputs": []
    },
    {
      "cell_type": "code",
      "metadata": {
        "id": "8-Lt0gyPevQn"
      },
      "source": [
        "res_positions = find_labels(point_positions, box_sizes, box_positions_1, box_positions_2)"
      ],
      "execution_count": null,
      "outputs": []
    },
    {
      "cell_type": "markdown",
      "metadata": {
        "id": "StL1rrI2grE5"
      },
      "source": [
        "Можно посмотреть на координаты выбранных позиций:"
      ]
    },
    {
      "cell_type": "code",
      "metadata": {
        "colab": {
          "base_uri": "https://localhost:8080/"
        },
        "id": "o5J7W9hfh7lJ",
        "outputId": "50bf0166-2cda-445d-a6bb-a1d206db2d7c"
      },
      "source": [
        "res_positions"
      ],
      "execution_count": null,
      "outputs": [
        {
          "output_type": "execute_result",
          "data": {
            "text/plain": [
              "[array([0, 0]),\n",
              " array([15, 15]),\n",
              " array([12, 40]),\n",
              " array([21,  0]),\n",
              " array([35, 35]),\n",
              " array([ 5, 37]),\n",
              " array([15, 35]),\n",
              " array([43, 38]),\n",
              " array([34, 14])]"
            ]
          },
          "metadata": {
            "tags": []
          },
          "execution_count": 6
        }
      ]
    },
    {
      "cell_type": "markdown",
      "metadata": {
        "id": "1mwsAc3GbeAm"
      },
      "source": [
        "Рисуем то, что получилось"
      ]
    },
    {
      "cell_type": "code",
      "metadata": {
        "id": "y0yO9YwugH-J"
      },
      "source": [
        "points_x = []\n",
        "points_y = []\n",
        "for p in point_positions:\n",
        "  points_x.append(p[0])\n",
        "  points_y.append(p[1])"
      ],
      "execution_count": null,
      "outputs": []
    },
    {
      "cell_type": "code",
      "metadata": {
        "colab": {
          "base_uri": "https://localhost:8080/",
          "height": 609
        },
        "id": "NGMfd05Ebou-",
        "outputId": "6e6cd2a1-4c49-47e4-8275-0dbf05e3fee3"
      },
      "source": [
        "sns.set_style(\"whitegrid\")\n",
        "\n",
        "fig, ax = plt.subplots()\n",
        "fig.set_size_inches(10, 10)\n",
        "plt.scatter(points_x, points_y, c='orangered', marker='o', s=75)\n",
        "\n",
        "for i in range(len(point_positions)):\n",
        "  ax.add_patch(Rectangle((res_positions[i][0], res_positions[i][1]), \n",
        "                         box_sizes[i][0], box_sizes[i][1], \n",
        "                         edgecolor = 'blue', fill=False, lw=2))\n",
        "\n",
        "plt.title(\"Resulting labels\", fontsize=16)\n",
        "plt.show()"
      ],
      "execution_count": null,
      "outputs": [
        {
          "output_type": "display_data",
          "data": {
            "image/png": "[encoded data removed]",
            "text/plain": [
              "<Figure size 720x720 with 1 Axes>"
            ]
          },
          "metadata": {
            "tags": []
          }
        }
      ]
    },
    {
      "cell_type": "markdown",
      "metadata": {
        "id": "zBjU0QoM2kAt"
      },
      "source": [
        "Как видим, прямоугольники не пересекаются. И, в целом, картинка выглядит неплохо.\n",
        "\n",
        "Тут я рисую не от 0 до 500, а меньше, чтобы было хорошо видно. Но условие про то, что за холст (500, 500) вылезать не должны, учитывается (в конце есть пример)."
      ]
    },
    {
      "cell_type": "markdown",
      "metadata": {
        "id": "-lk25KFA2sgj"
      },
      "source": [
        "А теперь попробуем задать невозможную ситуацию (т.е. когда решения не существует). В заданных ниже значениях нельзя нарисовать подписи без пересечения."
      ]
    },
    {
      "cell_type": "code",
      "metadata": {
        "id": "2jdOIJVHZ-fO"
      },
      "source": [
        "raw_data_2 = '''\n",
        "10,10 10,10 0,0 10,10\n",
        "15,15 10,15 5,0 15,15\n",
        "21,10 15,10 6,10 6,0\n",
        "'''"
      ],
      "execution_count": null,
      "outputs": []
    },
    {
      "cell_type": "code",
      "metadata": {
        "id": "psS4kr7S3L59"
      },
      "source": [
        "new_point_positions = []\n",
        "new_box_sizes = []\n",
        "new_box_positions_1 = []\n",
        "new_box_positions_2 = []\n",
        "\n",
        "new_cur_lines = raw_data_2.strip().split('\\n')\n",
        "\n",
        "for line in new_cur_lines:\n",
        "  arr = line.split(' ')\n",
        "  new_point_positions.append(np.array(arr[0].split(','), dtype=int))\n",
        "  new_box_sizes.append(np.array(arr[1].split(','), dtype=int))\n",
        "  new_box_positions_1.append(np.array(arr[2].split(','), dtype=int))\n",
        "  new_box_positions_2.append(np.array(arr[3].split(','), dtype=int))"
      ],
      "execution_count": null,
      "outputs": []
    },
    {
      "cell_type": "code",
      "metadata": {
        "colab": {
          "base_uri": "https://localhost:8080/"
        },
        "id": "8aMO2vT23L8y",
        "outputId": "c2d16dc8-9a8e-471a-9b95-9a86d084d34c"
      },
      "source": [
        "res_positions_2 = find_labels(new_point_positions, new_box_sizes, new_box_positions_1, new_box_positions_2)"
      ],
      "execution_count": null,
      "outputs": [
        {
          "output_type": "stream",
          "text": [
            "Solution does not exist for this task\n"
          ],
          "name": "stdout"
        }
      ]
    },
    {
      "cell_type": "markdown",
      "metadata": {
        "id": "O73XoPxQg1Wd"
      },
      "source": [
        "И снова алгоритм сработал верно: вывелась строчка о том, что решения не существует."
      ]
    },
    {
      "cell_type": "markdown",
      "metadata": {
        "id": "BkdbQ6sUkOkz"
      },
      "source": [
        "И вот что будет, если вылезем за холст (500, 500):"
      ]
    },
    {
      "cell_type": "code",
      "metadata": {
        "id": "_FO7XdZtkYVv"
      },
      "source": [
        "raw_data_3 = '''\n",
        "10,10 10,10 0,0 10,10\n",
        "495,495 10,10 495,495 485,495\n",
        "'''"
      ],
      "execution_count": null,
      "outputs": []
    },
    {
      "cell_type": "code",
      "metadata": {
        "id": "0uB1Ndk3kYYM"
      },
      "source": [
        "new_point_positions_3 = []\n",
        "new_box_sizes_3 = []\n",
        "new_box_positions_1_3 = []\n",
        "new_box_positions_2_3 = []\n",
        "\n",
        "new_cur_lines_3 = raw_data_3.strip().split('\\n')\n",
        "\n",
        "for line in new_cur_lines_3:\n",
        "  arr = line.split(' ')\n",
        "  new_point_positions_3.append(np.array(arr[0].split(','), dtype=int))\n",
        "  new_box_sizes_3.append(np.array(arr[1].split(','), dtype=int))\n",
        "  new_box_positions_1_3.append(np.array(arr[2].split(','), dtype=int))\n",
        "  new_box_positions_2_3.append(np.array(arr[3].split(','), dtype=int))"
      ],
      "execution_count": null,
      "outputs": []
    },
    {
      "cell_type": "code",
      "metadata": {
        "colab": {
          "base_uri": "https://localhost:8080/"
        },
        "id": "RIiY0FYdkYak",
        "outputId": "67a292cb-efa9-48e4-cbd3-bf732926c6b7"
      },
      "source": [
        "res_positions_3 = find_labels(new_point_positions_3, new_box_sizes_3, new_box_positions_1_3, new_box_positions_2_3)"
      ],
      "execution_count": null,
      "outputs": [
        {
          "output_type": "stream",
          "text": [
            "Solution does not exist for this task\n"
          ],
          "name": "stdout"
        }
      ]
    },
    {
      "cell_type": "markdown",
      "metadata": {
        "id": "8HvyP7tFl10w"
      },
      "source": [
        "То есть за пределы холста также не можем выходить."
      ]
    }
  ]
}